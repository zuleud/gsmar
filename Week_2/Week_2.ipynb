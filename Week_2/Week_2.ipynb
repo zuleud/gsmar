{
 "cells": [
  {
   "cell_type": "markdown",
   "metadata": {},
   "source": [
    "# <font color=green>Next Generation Sequencing (NGS) technologies for Whole Genome Sequencing (WGS) and de novo assembly (I)</font>\n",
    "\n",
    "## Lecture Objectives:\n",
    "\n",
    "- **Understand Illumina data in terms of read length, read depth and error rate**\n",
    "- **Explore a pipeline for de novo genome assembly for Illumina data**\n",
    "\n",
    "## Reading \n",
    "\n",
    "- <a href=\"https://www.melbournebioinformatics.org.au/tutorials/\" target=\"_blank\">Bioinformatics. Tutorials and Protocols</a>\n",
    "\n",
    "- **The present and future of de novo whole-genome assembly by Sohn et al, Briefings in Bioinformatics. 2018; 19: 23**\n"
   ]
  },
  {
   "cell_type": "markdown",
   "metadata": {},
   "source": [
    "## Illumina data\n",
    "\n",
    "### What is Paired-End Sequencing?\n",
    "\n",
    "Paired-end sequencing allows users to sequence both ends of a fragment and generate high-quality, alignable sequence data. Paired-end sequencing facilitates detection of genomic rearrangements and repetitive sequence elements, as well as gene fusions and novel transcripts.\n",
    "\n",
    "In addition to producing twice the number of reads for the same time and effort in library preparation, sequences aligned as read pairs enable more accurate read alignment and the ability to detect insertion-deletion (indel) variants, which is not possible with single-read data."
   ]
  },
  {
   "cell_type": "markdown",
   "metadata": {},
   "source": [
    "<img src=\"paired-end-vs-single-read-seq-web-graphic.jpg\" title=\"Paired-end sequencing\" />"
   ]
  },
  {
   "cell_type": "markdown",
   "metadata": {},
   "source": [
    "## Installing software needed for Part 1\n",
    "\n",
    "For this course we will create a conda environment with all the software needed to produce the final assemblies of our strains.\n",
    "\n",
    "Conda enviroments allow you to have all the software and packages needed in a simple environment. You don't need to have sudo access to create conda environments as they are installed in your home directory.\n",
    "\n",
    "First we will create an environment with the name \"course_assembly\" and we will install in this environment all the software needed for this part of the course.\n",
    "\n",
    "To create the conda environment you just need to type in you shell:\n",
    "\n",
    "`conda create --name course`\n",
    "\n",
    "With this an empty environment will be created with the name course_assembly\n",
    "\n",
    "To active the conda environment:\n",
    "\n",
    "`activate course_assebly`\n",
    "\n",
    "Once the environment is activated in your shell you can install last version available of different packages using:\n",
    "\n",
    "`conda install -c bioconda fastqc`"
   ]
  },
  {
   "cell_type": "markdown",
   "metadata": {},
   "source": [
    "### Checking quality of paired end Illumina reads\n",
    "\n",
    "#### FASTQC software\n",
    "\n",
    "\n",
    "- <a href=\"http://www.bioinformatics.babraham.ac.uk/projects/fastqc/\" target=\"_blank\">FastQC documentation</a>\n",
    "\n",
    "- <a href=\"http://manpages.ubuntu.com/manpages/bionic/man1/fastqc.1.html\" target=\"_blank\">FastQC Mannual pages</a>\n",
    "\n",
    "FastQC aims to provide a simple way to do some quality control checks on raw sequence data coming from high throughput sequencing pipelines. It provides a modular set of analyses which you can use to give a quick impression of whether your data has any problems of which you should be aware before doing any further analysis.\n",
    "\n",
    "The Firt thing to do will be always to activate our environment where we have all the software we need installed\n",
    "\n",
    "`source activate course`\n",
    "\n"
   ]
  },
  {
   "cell_type": "code",
   "execution_count": 15,
   "metadata": {},
   "outputs": [],
   "source": [
    "%%bash \n",
    "\n",
    "#source activate course\n",
    "\n",
    "# cd /opt/tljh/user/data/Enterococcus\n",
    "\n",
    "# ls\n"
   ]
  },
  {
   "cell_type": "markdown",
   "metadata": {},
   "source": [
    "In folder `fasq` we can find the Illumina paired-end sequences we will use for the assembly of the strain \"58\"\n",
    "\n",
    "To run fastqc we just need to call the program followed by the two sets of fastq files (one per each direction of the paired end sequencing):\n",
    "\n"
   ]
  },
  {
   "cell_type": "code",
   "execution_count": 16,
   "metadata": {},
   "outputs": [],
   "source": [
    "%%bash\n",
    "\n",
    "#check location\n",
    "\n",
    "#pwd\n",
    "\n",
    "# we will storage our results in folder fastqc \n",
    "\n",
    "# mkdir fastqc \n",
    "\n",
    "#fastqc ./fastq/58_P3_S6_L001-4_R1_001.trim.fastq.gz ./fastq/58_P3_S6_L001-4_R2_001.trim.fastq.gz -t 8 -o fastqc"
   ]
  },
  {
   "cell_type": "markdown",
   "metadata": {},
   "source": [
    "#### Fastp software\n",
    "\n",
    "- <a href=\"https://github.com/OpenGene/fastp\" target=\"_blank\">Fastp Github website</a>\n",
    "\n",
    "\n",
    "A tool designed to provide fast all-in-one preprocessing for FastQ files. This tool is developed in C++ with multithreading supported to afford high performance.\n",
    "\n",
    "fastp supports both single-end (SE) and paired-end (PE) input/output. For PE data, you should also specify read2 input by -I or --in2, and specify read2 output by -O or --out2.\n"
   ]
  },
  {
   "cell_type": "code",
   "execution_count": 17,
   "metadata": {},
   "outputs": [],
   "source": [
    "%%bash\n",
    "\n",
    "#mkdir fastp\n",
    "\n",
    "#fastp -i ./fastq/58_P3_S6_L001-4_R1_001.trim.fastq.gz -I ./fastq/58_P3_S6_L001-4_R2_001.trim.fastq.gz  -o ./fastp/58_P3_S6_L001-4_R1_001.fastq_trim.gz -O ./fastp/58_P3_S6_L001-4_R2_001.fastq_trim.gz -h --detect_adapter_for_pe -w 8\n"
   ]
  },
  {
   "cell_type": "markdown",
   "metadata": {},
   "source": [
    "Quality of the trimmed reads can be observed again using FASTQC"
   ]
  },
  {
   "cell_type": "code",
   "execution_count": 18,
   "metadata": {},
   "outputs": [],
   "source": [
    "%%bash\n",
    "\n",
    "#mkdir fastqc_trimmed\n",
    "\n",
    "#fastqc ./fastp/58_P3_S6_L001-4_R1_001.fastq_trim.gz ./fastp/58_P3_S6_L001-4_R2_001.fastq_trim.gz -t 8 -o fastqc_trimmed"
   ]
  },
  {
   "cell_type": "markdown",
   "metadata": {},
   "source": [
    "#### Trimmomatic\n",
    "\n",
    "- <a href=\"http://www.usadellab.org/cms/?page=trimmomatic\" target=\"_blank\">Trimmomatic website</a>\n",
    "\n",
    "Trimmomatic is a fast, multithreaded command line tool that can be used to trim and crop Illumina (FASTQ) data as well as to remove adapters. These adapters can pose a real problem depending on the library preparation and downstream application.\n",
    "\n",
    "There are two major modes of the program: Paired end mode and Single end mode. The paired end mode will maintain correspondence of read pairs and also use the additional information contained in paired reads to better find adapter or PCR primer fragments introduced by the library preparation process.\n",
    "Trimmomatic works with FASTQ files (using phred + 33 or phred + 64 quality scores, depending on the Illumina pipeline used). Files compressed using either „gzip‟ or „bzip2‟ are supported, and are identified by use of „.gz‟ or „.bz2‟ file extensions.\n",
    "\n",
    "The current trimming steps are:\n",
    "\n",
    "   * ILLUMINACLIP: Cut adapter and other illumina-specific sequences from the read. SLIDINGWINDOW: Performs a sliding window trimming approach. It starts scanning at the 5‟ end and clips the read once the average quality within the window falls below a threshold.\n",
    "   * MAXINFO: An adaptive quality trimmer which balances read length and error rate to maximise the value of each read\n",
    "   * LEADING: Cut bases off the start of a read, if below a threshold quality\n",
    "   * TRAILING: Cut bases off the end of a read, if below a threshold quality\n",
    "   * CROP: Cut the read to a specified length by removing bases from the end HEADCROP: Cut the specified number of bases from the start of the read MINLEN: Drop the read if it is below a specified length\n",
    "   * AVGQUAL: Drop the read if the average quality is below the specified level TOPHRED33: Convert quality scores to Phred-33\n",
    "   * TOPHRED64: Convert quality scores to Phred-64\n",
    "    "
   ]
  },
  {
   "cell_type": "code",
   "execution_count": 19,
   "metadata": {},
   "outputs": [],
   "source": [
    "%%bash\n",
    "\n",
    "#java -jar trimmomatic-0.39.jar PE input_forward.fq.gz input_reverse.fq.gz output_forward_paired.fq.gz output_forward_unpaired.fq.gz output_reverse_paired.fq.gz output_reverse_unpaired.fq.gz ILLUMINACLIP:TruSeq3-PE.fa:2:30:10:2:keepBothReads *java -jar trimmomatic-0.39.jar PE input_forward.fq.gz input_reverse.fq.gz output_forward_paired.fq.gz output_forward_unpaired.fq.gz output_reverse_paired.fq.gz output_reverse_unpaired.fq.gz ILLUMINACLIP:TruSeq3-PE.fa:2:30:10:2:keepBothReads LEADING:15 TRAILING:20 SLIDINGWINDOW:5:20 MINLEN:50 -threads 8"
   ]
  },
  {
   "cell_type": "markdown",
   "metadata": {},
   "source": [
    "This will perform the following:\n",
    "\n",
    "* Remove adapters (ILLUMINACLIP:TruSeq3-PE.fa:2:30:10)\n",
    "\n",
    "* Remove leading low quality or N bases (below quality 15) (LEADING:15)\n",
    "\n",
    "* Remove trailing low quality or N bases (below quality 20) (TRAILING:20)\n",
    "\n",
    "* Scan the read with a 4-base wide sliding window, cutting when the average quality per base drops below 15 (SLIDINGWINDOW:5:20)\n",
    "\n",
    "* Drop reads below the 36 bases long (MINLEN:50)\n",
    "\n",
    "* Use 8 threads"
   ]
  },
  {
   "cell_type": "markdown",
   "metadata": {},
   "source": [
    "### Assembly of Illumina reads\n",
    "\n",
    "#### SPAdes software\n",
    "\n",
    "- <a href=\"https://github.com/ablab/spades\" target=\"_blank\">Spades Github</a>\n",
    "- <a href=\"http://cab.spbu.ru/files/release3.13.0/manual.html\" target=\"_blank\">Spades manual</a>\n",
    "\n",
    "SPAdes is not intended for larger genomes (e.g. mammalian size genomes). SPAdes is a very memory intensive program. In multithreaded mode (-t 16), you will want at least 500 Gigabytes if not 1000 Gigabytes of RAM.\n",
    "\n",
    "SPAdes takes as input paired-end reads, mate-pairs and single (unpaired) reads in FASTA and FASTQ.SPAdes supports mate-pair only assembly.\n",
    "\n",
    "**Read pair utilization**\n",
    "\n",
    "While the use of paired reads and mate pairs is key to genome assembly, and not new, SPAdes utilizes so called paired DeBruin graphs to take the advantage of the paired end data. One of the key issues with paired DeBruin graphs is that the resulting genome assemblies do not tolerate variability in insert sizes: The initial formulation of paired DeBruijn graphs assumed constant distance between pairs of reads. In practice this distance is always variable. SPAdes performs k-bimer (these are k-mers derived from paired reads) adjustment to identify exact or nearly-exact distances for each k-bimer pair.\n",
    "\n",
    "**Error correction**\n",
    "\n",
    "Sequencing data contains a substantial number of sequencing errors that manifest themselves as deviations (bulges and non-connected components) within the assembly graph. One way to improve the graph before assembly it is to minimize the number of sequencing errors by performing error correction. SPAdes uses BayesHammer (Nikolenko et al. 2013) to correct the reads. Here is a brief summary of what it does:\n",
    "\n",
    "SPAdes (or rather BayesHammer) counts k-mers in reads and computes k-mer statistics that take into account base quality values.\n",
    "\n",
    "A Hamming graph is constructed in which k-mers are nodes. In this graph edges connect nodes (k-mers) if they differ from each other by a number of nucleotides up to a certain threshold (the Hamming distance). The graph is central to the error correction algorithm.\n",
    "\n",
    "Then Bayesian subclustering is done on the graph from the previous step. For each k-mer we now know the center of its subcluster.\n",
    "\n",
    "Solid k-mers are derived from cluster centers and are assumed to be error free.\n",
    "Solid k-mers are mapped back to the reads.\n",
    "Reads are corrected using solid k-mers.\n",
    "\n",
    "**Code**\n",
    "\n",
    "`source activate course`\n",
    "\n",
    "`mkdir spades`"
   ]
  },
  {
   "cell_type": "code",
   "execution_count": 20,
   "metadata": {},
   "outputs": [],
   "source": [
    "%%bash\n",
    "\n",
    "#spades.py -1 ./fastp/58_P3_S6_L001-4_R1_001.trim.fastq.gz -2 ./fastp/58_P3_S6_L001-4_R2_001.trim.fastq.gz -o ./spades -t 8 --careful\n"
   ]
  },
  {
   "cell_type": "code",
   "execution_count": null,
   "metadata": {},
   "outputs": [],
   "source": []
  }
 ],
 "metadata": {
  "kernelspec": {
   "display_name": "Python 3",
   "language": "python",
   "name": "python3"
  },
  "language_info": {
   "codemirror_mode": {
    "name": "ipython",
    "version": 3
   },
   "file_extension": ".py",
   "mimetype": "text/x-python",
   "name": "python",
   "nbconvert_exporter": "python",
   "pygments_lexer": "ipython3",
   "version": "3.8.4"
  }
 },
 "nbformat": 4,
 "nbformat_minor": 4
}
